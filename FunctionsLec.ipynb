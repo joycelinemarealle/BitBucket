{
 "cells": [
  {
   "cell_type": "code",
   "execution_count": 69,
   "id": "753ce8d8-843b-4607-84a1-e50e2a71b722",
   "metadata": {},
   "outputs": [
    {
     "name": "stdout",
     "output_type": "stream",
     "text": [
      "Hello world\n"
     ]
    }
   ],
   "source": [
    "def my_func():\n",
    "    print('Hello world')\n",
    "\n",
    "my_func()"
   ]
  },
  {
   "cell_type": "code",
   "execution_count": 70,
   "id": "3283271a-7bac-4012-8f6c-a6212689a58c",
   "metadata": {},
   "outputs": [
    {
     "data": {
      "text/plain": [
       "16"
      ]
     },
     "execution_count": 70,
     "metadata": {},
     "output_type": "execute_result"
    }
   ],
   "source": [
    "def square(n):\n",
    "    return n*n\n",
    "square(4)"
   ]
  },
  {
   "cell_type": "markdown",
   "id": "16fe0f62-01d3-43d6-b0c8-5f543ce2b2aa",
   "metadata": {},
   "source": [
    "### Swap Function"
   ]
  },
  {
   "cell_type": "code",
   "execution_count": 71,
   "id": "fda93c90-13b0-427e-af85-f16b05e1629d",
   "metadata": {},
   "outputs": [
    {
     "name": "stdout",
     "output_type": "stream",
     "text": [
      "2 1\n"
     ]
    }
   ],
   "source": [
    "def swap(a,b):\n",
    "    return(b,a)\n",
    "\n",
    "num1=1\n",
    "num2=2\n",
    "x,y =swap(num1,num2)\n",
    "print(x,y)"
   ]
  },
  {
   "cell_type": "code",
   "execution_count": 72,
   "id": "6a5e26d6-91f0-45d7-9984-021aa37bdbe7",
   "metadata": {},
   "outputs": [
    {
     "name": "stdout",
     "output_type": "stream",
     "text": [
      "2 1\n"
     ]
    }
   ],
   "source": [
    "def swap(a,b):\n",
    "    return(b,a)\n",
    "\n",
    "a=1 #different from a in def swap(a,b)\n",
    "b=2\n",
    "x,y =swap(a,b)\n",
    "print(x,y)"
   ]
  },
  {
   "cell_type": "markdown",
   "id": "f6fb7c6b-bab5-4b19-8e64-c0cca6cba96c",
   "metadata": {},
   "source": [
    "### Write down the types of the following expressions:"
   ]
  },
  {
   "cell_type": "code",
   "execution_count": 73,
   "id": "b2ba9be4-52d7-4bb5-9721-72e45ac5d638",
   "metadata": {},
   "outputs": [
    {
     "name": "stdout",
     "output_type": "stream",
     "text": [
      "(5, 2, 7)\n"
     ]
    }
   ],
   "source": [
    "t= (5,2,7)\n",
    "print(t)"
   ]
  },
  {
   "cell_type": "code",
   "execution_count": 74,
   "id": "3433f502-de7a-49d3-b6d5-fc4fab6a4e80",
   "metadata": {},
   "outputs": [],
   "source": [
    "e,f,g =t"
   ]
  },
  {
   "cell_type": "code",
   "execution_count": 75,
   "id": "52efd0d8-eb75-4260-893f-5af636b64f26",
   "metadata": {},
   "outputs": [
    {
     "name": "stdout",
     "output_type": "stream",
     "text": [
      "5\n"
     ]
    }
   ],
   "source": [
    "print(e)"
   ]
  },
  {
   "cell_type": "code",
   "execution_count": 76,
   "id": "6d3ee696-176e-4da6-89dc-9925f8b4f758",
   "metadata": {},
   "outputs": [
    {
     "name": "stdout",
     "output_type": "stream",
     "text": [
      "(9, 5)\n"
     ]
    }
   ],
   "source": [
    "t2 = swap(5,9)\n",
    "print(t2)"
   ]
  },
  {
   "cell_type": "code",
   "execution_count": 77,
   "id": "f8557bfa-6efb-4d62-90fa-a9fb0806c4a9",
   "metadata": {},
   "outputs": [
    {
     "name": "stdout",
     "output_type": "stream",
     "text": [
      "140722838881192\n"
     ]
    }
   ],
   "source": [
    "#id print where location is\n",
    "print(id(e))"
   ]
  },
  {
   "cell_type": "code",
   "execution_count": 78,
   "id": "030fd944-ce78-4584-b6e7-8bd0ce7e5721",
   "metadata": {},
   "outputs": [
    {
     "name": "stdout",
     "output_type": "stream",
     "text": [
      "1 1 2 3 5 8 13 21 34 55 89 144 233 377 \n"
     ]
    }
   ],
   "source": [
    "#fib\n",
    "def fib(n):\n",
    "    a,b =0,1\n",
    "    while b<n:\n",
    "        print(b,'', end='')\n",
    "        a,b = b,a+b\n",
    "    print()\n",
    "fib(500)"
   ]
  },
  {
   "cell_type": "code",
   "execution_count": 79,
   "id": "bcaea5a7-8e66-4282-aea8-251c6b273562",
   "metadata": {},
   "outputs": [],
   "source": [
    "_fib = fib"
   ]
  },
  {
   "cell_type": "code",
   "execution_count": 80,
   "id": "9451d48d-e364-4bae-b817-8a97d4b4fe06",
   "metadata": {},
   "outputs": [
    {
     "name": "stdout",
     "output_type": "stream",
     "text": [
      "1 1 2 3 5 8 13 21 34 55 89 144 233 377 \n"
     ]
    }
   ],
   "source": [
    "_fib(500)"
   ]
  },
  {
   "cell_type": "code",
   "execution_count": 81,
   "id": "919c1905-3ca6-4b99-87db-4a5a8b401595",
   "metadata": {},
   "outputs": [],
   "source": [
    "def myFib(n):\n",
    "    print('monkey patched!!')\n",
    "    _fib(n)\n",
    "\n",
    "fib = myFib #call new function name as old"
   ]
  },
  {
   "cell_type": "code",
   "execution_count": 82,
   "id": "3fe0ddcd-1562-4b0c-a4e7-2a8d42c3039c",
   "metadata": {},
   "outputs": [
    {
     "name": "stdout",
     "output_type": "stream",
     "text": [
      "monkey patched!!\n",
      "1 1 2 3 5 8 13 21 34 55 89 144 233 377 \n"
     ]
    }
   ],
   "source": [
    "fib (500)"
   ]
  },
  {
   "cell_type": "code",
   "execution_count": 83,
   "id": "134e440e-27dc-44e4-841d-2e21aef9e48f",
   "metadata": {},
   "outputs": [
    {
     "name": "stdout",
     "output_type": "stream",
     "text": [
      "1954167606464 1954167606464\n"
     ]
    }
   ],
   "source": [
    "# point on same thing. see similar id\n",
    "print(id(fib), id(myFib))"
   ]
  },
  {
   "cell_type": "code",
   "execution_count": 65,
   "id": "b3a76643-bb0e-4719-a0cb-bf18d20f7d31",
   "metadata": {},
   "outputs": [],
   "source": [
    "print = _print "
   ]
  },
  {
   "cell_type": "code",
   "execution_count": 66,
   "id": "a7e3cfcb-e0f4-4123-a00b-cb9e1eb4d6d3",
   "metadata": {},
   "outputs": [],
   "source": [
    "# def myPrint(msg):\n",
    "   # _print(\"MONKEY PATCHED\")\n",
    "   # _print(msg)\n",
    "#print = myPrint#\n"
   ]
  },
  {
   "cell_type": "code",
   "execution_count": 67,
   "id": "0e128e8e-27d3-489b-8681-5ff01cdc040c",
   "metadata": {},
   "outputs": [
    {
     "name": "stdout",
     "output_type": "stream",
     "text": [
      "arg: a has value: 1\n",
      "arg: b has value: 2\n",
      "arg: c has value: 3\n"
     ]
    }
   ],
   "source": [
    "def named(**kwargs):\n",
    "    for key in kwargs.keys():\n",
    "        print('arg:',key, 'has value:', kwargs[key])\n",
    "named(a=1, b=2, c=3)"
   ]
  },
  {
   "cell_type": "code",
   "execution_count": 68,
   "id": "94c5f587-9740-422f-b72b-a1b00163d2c2",
   "metadata": {},
   "outputs": [
    {
     "name": "stdout",
     "output_type": "stream",
     "text": [
      "<class 'tuple'>\n"
     ]
    }
   ],
   "source": [
    "def argsType(*args):\n",
    "    print(type(args))\n",
    "argsType(1,2)"
   ]
  },
  {
   "cell_type": "code",
   "execution_count": 84,
   "id": "d76e5fc7-5f91-47cb-9a10-e5bbc4a2e955",
   "metadata": {},
   "outputs": [],
   "source": [
    "##args"
   ]
  },
  {
   "cell_type": "code",
   "execution_count": null,
   "id": "c6c36a89-a193-442f-b64b-c15c226d68e1",
   "metadata": {},
   "outputs": [],
   "source": [
    "#can have required number first then the args, kwargs\n",
    "\n"
   ]
  }
 ],
 "metadata": {
  "kernelspec": {
   "display_name": "Python 3 (ipykernel)",
   "language": "python",
   "name": "python3"
  },
  "language_info": {
   "codemirror_mode": {
    "name": "ipython",
    "version": 3
   },
   "file_extension": ".py",
   "mimetype": "text/x-python",
   "name": "python",
   "nbconvert_exporter": "python",
   "pygments_lexer": "ipython3",
   "version": "3.11.7"
  }
 },
 "nbformat": 4,
 "nbformat_minor": 5
}
