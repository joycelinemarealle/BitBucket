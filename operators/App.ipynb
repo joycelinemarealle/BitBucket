{
 "cells": [
  {
   "cell_type": "code",
   "execution_count": 11,
   "id": "917fc655-ae2d-4fdd-842c-d4f96e9355fb",
   "metadata": {},
   "outputs": [
    {
     "name": "stdout",
     "output_type": "stream",
     "text": [
      "Point2:\t Point(3, 3)\n",
      "Point3:\t Point(1, 3)\n"
     ]
    }
   ],
   "source": [
    "from Point import *\n",
    "\n",
    "point1 = Point(2,3)\n",
    "rp = Point(1,0)\n",
    "lp = Point(-1, 0)\n",
    "up = Point(1,3)\n",
    "dp = Point (-1,0)\n",
    "point2 = point1 + rp\n",
    "point3 = point1 + lp\n",
    "\n",
    "print(\"Point2:\\t\",point2) #output (3,3)\n",
    "print(\"Point3:\\t\",point3) #output (1,3)"
   ]
  },
  {
   "cell_type": "code",
   "execution_count": 12,
   "id": "72a91e0d-2153-4067-a4d2-453858c289b5",
   "metadata": {},
   "outputs": [
    {
     "name": "stdout",
     "output_type": "stream",
     "text": [
      "Point3:\t Point(1, 3)\n",
      "Point4:\t Point(1, 0)\n"
     ]
    }
   ],
   "source": [
    "point4 = point1 + dp\n",
    "point5 = point1 - up\n",
    "print(\"Point3:\\t\", point4) #output (1,3)\n",
    "print(\"Point4:\\t\", point5) #output (1,0)"
   ]
  },
  {
   "cell_type": "code",
   "execution_count": null,
   "id": "e34ed9c5",
   "metadata": {},
   "outputs": [],
   "source": [
    "# overloading the to __str__ function\n"
   ]
  }
 ],
 "metadata": {
  "kernelspec": {
   "display_name": "Python 3 (ipykernel)",
   "language": "python",
   "name": "python3"
  },
  "language_info": {
   "codemirror_mode": {
    "name": "ipython",
    "version": 3
   },
   "file_extension": ".py",
   "mimetype": "text/x-python",
   "name": "python",
   "nbconvert_exporter": "python",
   "pygments_lexer": "ipython3",
   "version": "3.11.7"
  }
 },
 "nbformat": 4,
 "nbformat_minor": 5
}
