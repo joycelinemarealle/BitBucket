{
 "cells": [
  {
   "cell_type": "markdown",
   "id": "c6a0745c-1ba1-41cf-8242-e8c69b7f22ab",
   "metadata": {},
   "source": [
    "### Write a script that prompts the user to enter a number. Read this number, and print a message depending on whether it is odd or even."
   ]
  },
  {
   "cell_type": "code",
   "execution_count": 26,
   "id": "feb04be4-a91b-42af-a5cf-2f0b32c00196",
   "metadata": {},
   "outputs": [
    {
     "name": "stdin",
     "output_type": "stream",
     "text": [
      "Enter a Number 4\n"
     ]
    },
    {
     "name": "stdout",
     "output_type": "stream",
     "text": [
      "even\n"
     ]
    }
   ],
   "source": [
    "number = int(input ('Enter a Number'))\n",
    "if number % 2 ==0 :\n",
    "    print('even')\n",
    "else :\n",
    "    print('odd')"
   ]
  },
  {
   "cell_type": "markdown",
   "id": "f764fe75-8416-4a52-ad6f-5fc423661cb0",
   "metadata": {},
   "source": [
    "### Create two variables - one containing your name and the other containing your age. Print out the values of both of these variables on separate lines, then combine both into a single variable and print out its value."
   ]
  },
  {
   "cell_type": "code",
   "execution_count": 13,
   "id": "8f59abf0-db26-4f34-8234-051064dca73d",
   "metadata": {},
   "outputs": [
    {
     "name": "stdout",
     "output_type": "stream",
     "text": [
      "joy27\n"
     ]
    }
   ],
   "source": [
    "name = 'joy'\n",
    "age = 27\n",
    "combo = name + str(age)\n",
    "print(combo)"
   ]
  },
  {
   "cell_type": "markdown",
   "id": "d1da2401-95f1-413d-a425-fa91ac502316",
   "metadata": {},
   "source": [
    "### Print out a message to the user, asking them to guess a random number (you can decide on a range if you want). Keep asking them to guess until they get it right."
   ]
  },
  {
   "cell_type": "code",
   "execution_count": 25,
   "id": "3b929879-d15a-45e5-820b-96af210f2b51",
   "metadata": {},
   "outputs": [
    {
     "name": "stdin",
     "output_type": "stream",
     "text": [
      "enter an even number between 1 and 10: 2\n"
     ]
    },
    {
     "name": "stdout",
     "output_type": "stream",
     "text": [
      "You guessed it wrong\n"
     ]
    }
   ],
   "source": [
    "import random\n",
    "\n",
    "randomnum = random.randrange(1,10,2) #random in intervals of 2 so even\n",
    "num = int (input('enter an even number between 1 and 10:'))\n",
    "\n",
    "if num == randomnum:\n",
    "           print('You guessed the number correct')\n",
    "else:\n",
    "    print('You guessed it wrong')\n",
    "    print(randomnum = random.randrange(1,10,2))"
   ]
  },
  {
   "cell_type": "markdown",
   "id": "ec220756-abdc-426f-b1e8-628e18a4dd46",
   "metadata": {},
   "source": [
    "### Declare a list [1, 4, 9, 16, 25] or tuple (1, 4, 9, 16, 25). Use a for-loop to print out all values that are even"
   ]
  },
  {
   "cell_type": "code",
   "execution_count": 29,
   "id": "c588dc4b-6513-4b3e-8a0b-50e2654891a3",
   "metadata": {},
   "outputs": [
    {
     "name": "stdout",
     "output_type": "stream",
     "text": [
      "1 4 9 16 25 \n",
      "1 4 9 16 25 "
     ]
    }
   ],
   "source": [
    "num_list = [1,4,9,16,25]\n",
    "num_tuple = (1,4,9,16,25)\n",
    "\n",
    "for i in num_list:\n",
    "    print (i, '',  end ='')\n",
    "print()\n",
    "for j in num_tuple:\n",
    "    print(j, '', end = '')"
   ]
  },
  {
   "cell_type": "markdown",
   "id": "2238cbb9-f768-4890-a5b5-16ea4fe9dba3",
   "metadata": {},
   "source": [
    "### Using a while-loop print out the sum of all the years up to and including your current age, for example, if you were 5 y.o. you would end up with 1 + 2 + 3 + 4 + 5 = 15. Print out the final value in years (15 years). Also print out the calculated number of years as a number of months, days and hours."
   ]
  },
  {
   "cell_type": "code",
   "execution_count": 36,
   "id": "b9b3d7c4-f51f-4380-abb7-d676f57a7a6d",
   "metadata": {},
   "outputs": [
    {
     "name": "stdout",
     "output_type": "stream",
     "text": [
      "378 total sum of my age\n"
     ]
    }
   ],
   "source": [
    "age = 27\n",
    "num = 0\n",
    "sum = 0\n",
    "\n",
    "while (num <= age):\n",
    "    sum += num\n",
    "    num += 1\n",
    "print(sum, 'total sum of my age')"
   ]
  },
  {
   "cell_type": "code",
   "execution_count": null,
   "id": "4d2a2625-f253-4345-8f87-0a287ee1a0bc",
   "metadata": {},
   "outputs": [],
   "source": []
  },
  {
   "cell_type": "code",
   "execution_count": null,
   "id": "0cbfe523-69bf-48ed-b959-bcde4e1f374a",
   "metadata": {},
   "outputs": [],
   "source": []
  }
 ],
 "metadata": {
  "kernelspec": {
   "display_name": "Python 3 (ipykernel)",
   "language": "python",
   "name": "python3"
  },
  "language_info": {
   "codemirror_mode": {
    "name": "ipython",
    "version": 3
   },
   "file_extension": ".py",
   "mimetype": "text/x-python",
   "name": "python",
   "nbconvert_exporter": "python",
   "pygments_lexer": "ipython3",
   "version": "3.11.7"
  }
 },
 "nbformat": 4,
 "nbformat_minor": 5
}
