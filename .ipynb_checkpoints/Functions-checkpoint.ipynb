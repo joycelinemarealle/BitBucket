{
 "cells": [
  {
   "cell_type": "markdown",
   "id": "16563419-a78b-4335-8b75-8000e47f1532",
   "metadata": {},
   "source": [
    "### Write a function that takes the last element in a list and moves it to the front of the list."
   ]
  },
  {
   "cell_type": "code",
   "execution_count": 17,
   "id": "ce449650-6d71-48ee-9038-833111a03ea0",
   "metadata": {},
   "outputs": [
    {
     "name": "stdout",
     "output_type": "stream",
     "text": [
      "[7, 1, 2, 4, 5, 6, 7]\n",
      "None\n"
     ]
    }
   ],
   "source": [
    "list1 = [1,2,4,5,6,7]\n",
    "\n",
    "list1.insert(0,list1[len(list1)-1])\n",
    "print(list1)\n",
    "list1.remove(list1[len(list1)-1])\n",
    "#print(list1)\n",
    "\n"
   ]
  },
  {
   "cell_type": "code",
   "execution_count": 35,
   "id": "993ebd55-e254-4eb0-b180-99f13def5e4f",
   "metadata": {},
   "outputs": [
    {
     "name": "stdout",
     "output_type": "stream",
     "text": [
      "[9, 2, 3, 4, 5, 6, 7, 8]\n"
     ]
    }
   ],
   "source": [
    "def Numforward(start, end):\n",
    "    list1 = list(range(start,end))\n",
    "    list1.insert(0, list1[-1])\n",
    "    list1.pop(-1) #list1.remove uses values not indices\n",
    "    return list1\n",
    "\n",
    "list1 = Numforward(2,10)\n",
    "print(list1)"
   ]
  },
  {
   "cell_type": "markdown",
   "id": "9628ebc8-10e3-43e0-a5e1-9fd848b683e4",
   "metadata": {},
   "source": [
    "### Write a function that takes a list and a variable number of indices. The function should return a tuple of the values at those indices."
   ]
  },
  {
   "cell_type": "code",
   "execution_count": 64,
   "id": "6cf0372c-e9fc-4285-8fcb-e6064e4fe41a",
   "metadata": {},
   "outputs": [
    {
     "data": {
      "text/plain": [
       "(2, 3, 4, 5)"
      ]
     },
     "execution_count": 64,
     "metadata": {},
     "output_type": "execute_result"
    }
   ],
   "source": [
    "def tupleIndices(a,b,c):\n",
    "    newList = list(range(a,b))\n",
    "    valuesList = newList[:c]\n",
    "    return tuple(valuesList)\n",
    "tupleIndices(2,10,4)\n",
    "    \n",
    "# t = (valuesList,) does not work returns a list in a tuple\n",
    "#print(t) "
   ]
  },
  {
   "cell_type": "markdown",
   "id": "763c43c6-912a-43c5-9d9c-5b8a38d1020d",
   "metadata": {},
   "source": [
    "### Write a function that takes named parameters and returns the parameters as a Dictionary of \n",
    "parameter name -> valu\r\n",
    ".\r\n",
    "\r\n"
   ]
  },
  {
   "cell_type": "code",
   "execution_count": 63,
   "id": "2706203a-c957-46d7-be96-79e9173364eb",
   "metadata": {},
   "outputs": [
    {
     "name": "stdout",
     "output_type": "stream",
     "text": [
      "name: joy has value: 1\n",
      "name: eve has value: 2\n",
      "name: sary has value: 3\n"
     ]
    }
   ],
   "source": [
    "def named(**kwargs):\n",
    "  for key in kwargs.keys():\n",
    "      print('name:', key, 'has value:', kwargs[key])\n",
    "named(joy=1,eve=2,sary=3)\n",
    "    "
   ]
  },
  {
   "cell_type": "markdown",
   "id": "7b12b001-7a37-438c-b8b7-e57f3e9eba8b",
   "metadata": {},
   "source": [
    "### Write a function that take an initial value and a tuple of ints and accumulates into the initial value. For example, \n",
    "acc(0, (1,3,5)\r\n",
    " should return 9."
   ]
  },
  {
   "cell_type": "code",
   "execution_count": 69,
   "id": "47cd0138-3de3-4f7b-88ae-cee570720ee8",
   "metadata": {},
   "outputs": [
    {
     "data": {
      "text/plain": [
       "9"
      ]
     },
     "execution_count": 69,
     "metadata": {},
     "output_type": "execute_result"
    }
   ],
   "source": [
    "def sumTuple(initialvalue,numbers):\n",
    "    for number in numbers:\n",
    "        initialvalue +=number\n",
    "    return initialvalue\n",
    "sumTuple(0,(1,3,5))\n",
    "    \n",
    "    "
   ]
  },
  {
   "cell_type": "markdown",
   "id": "1bcd45c6-7c1c-4f97-a9b9-b5799fafca73",
   "metadata": {},
   "source": [
    "### Rewrite your Fibonacci exercise from the previous lab as a function. It should take an argument - how many numbers are required. For example, fib(5) should print m1 1 2 3 5  - the first five Fibonacci numbers. Test your code with the following calls:"
   ]
  },
  {
   "cell_type": "code",
   "execution_count": 82,
   "id": "dff325a1-f9a5-411f-bbd9-dbb8f09d0343",
   "metadata": {},
   "outputs": [
    {
     "name": "stdout",
     "output_type": "stream",
     "text": [
      "1 2 3 5 8 "
     ]
    }
   ],
   "source": [
    "def fib(n):\n",
    "    a,b = 0,1\n",
    "    for i in range(n):\n",
    "        a,b = b,a+b\n",
    "        print(b,'', end = '')\n",
    "fib(5)  "
   ]
  },
  {
   "cell_type": "code",
   "execution_count": null,
   "id": "cfd410c2-b0e0-46a7-b479-6bab69082b21",
   "metadata": {},
   "outputs": [],
   "source": []
  }
 ],
 "metadata": {
  "kernelspec": {
   "display_name": "Python 3 (ipykernel)",
   "language": "python",
   "name": "python3"
  },
  "language_info": {
   "codemirror_mode": {
    "name": "ipython",
    "version": 3
   },
   "file_extension": ".py",
   "mimetype": "text/x-python",
   "name": "python",
   "nbconvert_exporter": "python",
   "pygments_lexer": "ipython3",
   "version": "3.11.7"
  }
 },
 "nbformat": 4,
 "nbformat_minor": 5
}
