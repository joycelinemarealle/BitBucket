{
 "cells": [
  {
   "cell_type": "code",
   "execution_count": 8,
   "id": "5808a8e8-7266-4542-b4ba-9fd51a3c4282",
   "metadata": {},
   "outputs": [
    {
     "name": "stdout",
     "output_type": "stream",
     "text": [
      "[{1: None, 2: None, 3: <__main__.Car object at 0x000002952D946450>, 4: None, 5: <__main__.Car object at 0x000002952CC07650>, 6: None, 7: None, 8: None, 9: None, 10: None}]\n"
     ]
    }
   ],
   "source": [
    "class Car:\n",
    "    def __init__(self, regNumber):\n",
    "        self.regNo = regNumber#registrationNumber\n",
    "\n",
    "    def get_reg(self):\n",
    "        return self.regNumber\n",
    "\n",
    "    def __str__(self):\n",
    "        return f'[{self.regNumber}]'\n",
    "        \n",
    "class CarPark:\n",
    "    def __init__(self, spaces):\n",
    "        self.spaces = {} #define a dictionary\n",
    "        for i in range (1,spaces+1):\n",
    "            self.spaces[i] = None\n",
    "    \n",
    "    def park_car(self, space, car):\n",
    "        if self.is_occupied(space):\n",
    "            print(\"Space is filled\")\n",
    "        else:\n",
    "            self.spaces[space] = car\n",
    "    \n",
    "    def is_occupied(self,space):\n",
    "        return self.spaces[space] is not None\n",
    "    \n",
    "    def leave_space(self,space):\n",
    "        if self.is_occupied(space):\n",
    "            self.spaces[space] = None\n",
    "        else:\n",
    "            print(\"Space is empty already\")\n",
    "    \n",
    "    def __str__(self):\n",
    "        return f'[{self.spaces}]'\n",
    "\n",
    "#create new car objects\n",
    "c1 = Car('abc123')\n",
    "c2 = Car('def456')\n",
    "cp = CarPark(10)\n",
    "\n",
    "cp.park_car(3,c1)\n",
    "cp.park_car(5,c2)\n",
    "\n",
    "print(cp)\n",
    "         "
   ]
  },
  {
   "cell_type": "code",
   "execution_count": null,
   "id": "f5ca3418-cd06-47ed-9490-4be44b9c8234",
   "metadata": {},
   "outputs": [],
   "source": []
  }
 ],
 "metadata": {
  "kernelspec": {
   "display_name": "Python 3 (ipykernel)",
   "language": "python",
   "name": "python3"
  },
  "language_info": {
   "codemirror_mode": {
    "name": "ipython",
    "version": 3
   },
   "file_extension": ".py",
   "mimetype": "text/x-python",
   "name": "python",
   "nbconvert_exporter": "python",
   "pygments_lexer": "ipython3",
   "version": "3.11.7"
  }
 },
 "nbformat": 4,
 "nbformat_minor": 5
}
