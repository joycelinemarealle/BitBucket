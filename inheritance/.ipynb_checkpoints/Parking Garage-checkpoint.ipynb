{
 "cells": [
  {
   "cell_type": "code",
   "execution_count": null,
   "id": "5808a8e8-7266-4542-b4ba-9fd51a3c4282",
   "metadata": {},
   "outputs": [],
   "source": [
    "class Car:\n",
    "    def __init__(self, regNumber):\n",
    "        self.regNo = regNumber#registrationNumber\n",
    "\n",
    "    def get_reg(self):\n",
    "        return self.regNumber\n",
    "\n",
    "    def __str__(self):\n",
    "        return f'[{self.regNumber}]'\n",
    "        \n",
    "class CarPark:\n",
    "    def __init__(self, spaces):\n",
    "        self.spaces = {} #define a dictionary\n",
    "        for i in range (1,spaces+1):\n",
    "            self.spaces[i] = None\n",
    "\n",
    "    def park_car(self, space, car):\n",
    "        if self.is_occupied(space):\n",
    "            print(\"Space is filled\")\n",
    "        else:\n",
    "            self.spaces[space] = car\n",
    "\n",
    "    def is_occupied(self,space):\n",
    "        return self.spaces[space] is not None\n",
    "\n",
    "    def __str__(self):\n",
    "    return f'[{self.spaces}]'\n",
    "\n",
    "#create new car objects\n",
    "c1 = Car('abc123')\n",
    "c2 = Car(\"def456')\n",
    "         "
   ]
  }
 ],
 "metadata": {
  "kernelspec": {
   "display_name": "Python 3 (ipykernel)",
   "language": "python",
   "name": "python3"
  },
  "language_info": {
   "codemirror_mode": {
    "name": "ipython",
    "version": 3
   },
   "file_extension": ".py",
   "mimetype": "text/x-python",
   "name": "python",
   "nbconvert_exporter": "python",
   "pygments_lexer": "ipython3",
   "version": "3.11.7"
  }
 },
 "nbformat": 4,
 "nbformat_minor": 5
}
