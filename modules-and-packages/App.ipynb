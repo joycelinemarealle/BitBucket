{
 "cells": [
  {
   "cell_type": "code",
   "execution_count": 1,
   "id": "44e18576-1d06-436e-ac0b-02bf390c3d7b",
   "metadata": {},
   "outputs": [
    {
     "name": "stdout",
     "output_type": "stream",
     "text": [
      "This is the list operations file\n"
     ]
    }
   ],
   "source": [
    "#if run this first the its main is used not from main.py\n",
    "%run listoperations.py"
   ]
  },
  {
   "cell_type": "code",
   "execution_count": 3,
   "id": "543bb9f8-f7a8-47d9-b75a-c89693041cc9",
   "metadata": {},
   "outputs": [
    {
     "name": "stdin",
     "output_type": "stream",
     "text": [
      "Enter a number 3\n"
     ]
    },
    {
     "name": "stdout",
     "output_type": "stream",
     "text": [
      "[5, 6, 7, 1]\n",
      "Built-in functions, types, exceptions, and other objects.\n",
      "\n",
      "This module provides direct access to all 'built-in'\n",
      "identifiers of Python; for example, builtins.len is\n",
      "the full name for the built-in function len().\n",
      "\n",
      "This module is not normally accessed explicitly by most\n",
      "applications, but can be useful in modules that provide\n",
      "objects with the same name as a built-in value, but in\n",
      "which the built-in of that name is also needed.\n"
     ]
    }
   ],
   "source": [
    "%run main.py"
   ]
  },
  {
   "cell_type": "code",
   "execution_count": null,
   "id": "d9c0997a-57a1-471d-b93e-38f691aab7a8",
   "metadata": {},
   "outputs": [],
   "source": []
  }
 ],
 "metadata": {
  "kernelspec": {
   "display_name": "Python 3 (ipykernel)",
   "language": "python",
   "name": "python3"
  },
  "language_info": {
   "codemirror_mode": {
    "name": "ipython",
    "version": 3
   },
   "file_extension": ".py",
   "mimetype": "text/x-python",
   "name": "python",
   "nbconvert_exporter": "python",
   "pygments_lexer": "ipython3",
   "version": "3.11.7"
  }
 },
 "nbformat": 4,
 "nbformat_minor": 5
}
