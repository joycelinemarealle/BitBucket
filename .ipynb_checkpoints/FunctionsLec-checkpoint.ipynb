{
 "cells": [
  {
   "cell_type": "code",
   "execution_count": 2,
   "id": "753ce8d8-843b-4607-84a1-e50e2a71b722",
   "metadata": {},
   "outputs": [
    {
     "name": "stdout",
     "output_type": "stream",
     "text": [
      "Hello world\n"
     ]
    }
   ],
   "source": [
    "def my_func():\n",
    "    print('Hello world')\n",
    "\n",
    "my_func()"
   ]
  },
  {
   "cell_type": "code",
   "execution_count": 4,
   "id": "3283271a-7bac-4012-8f6c-a6212689a58c",
   "metadata": {},
   "outputs": [
    {
     "data": {
      "text/plain": [
       "16"
      ]
     },
     "execution_count": 4,
     "metadata": {},
     "output_type": "execute_result"
    }
   ],
   "source": [
    "def square(n):\n",
    "    return n*n\n",
    "square(4)"
   ]
  },
  {
   "cell_type": "markdown",
   "id": "16fe0f62-01d3-43d6-b0c8-5f543ce2b2aa",
   "metadata": {},
   "source": [
    "### Swap Function"
   ]
  },
  {
   "cell_type": "code",
   "execution_count": 14,
   "id": "fda93c90-13b0-427e-af85-f16b05e1629d",
   "metadata": {},
   "outputs": [
    {
     "name": "stdout",
     "output_type": "stream",
     "text": [
      "2 1\n"
     ]
    }
   ],
   "source": [
    "def swap(a,b):\n",
    "    return(b,a)\n",
    "\n",
    "num1=1\n",
    "num2=2\n",
    "x,y =swap(num1,num2)\n",
    "print(x,y)"
   ]
  },
  {
   "cell_type": "code",
   "execution_count": 15,
   "id": "6a5e26d6-91f0-45d7-9984-021aa37bdbe7",
   "metadata": {},
   "outputs": [
    {
     "name": "stdout",
     "output_type": "stream",
     "text": [
      "2 1\n"
     ]
    }
   ],
   "source": [
    "def swap(a,b):\n",
    "    return(b,a)\n",
    "\n",
    "a=1 #different from a in def swap(a,b)\n",
    "b=2\n",
    "x,y =swap(a,b)\n",
    "print(x,y)"
   ]
  },
  {
   "cell_type": "markdown",
   "id": "f6fb7c6b-bab5-4b19-8e64-c0cca6cba96c",
   "metadata": {},
   "source": [
    "### Write down the types of the following expressions:"
   ]
  },
  {
   "cell_type": "code",
   "execution_count": 8,
   "id": "b2ba9be4-52d7-4bb5-9721-72e45ac5d638",
   "metadata": {},
   "outputs": [
    {
     "name": "stdout",
     "output_type": "stream",
     "text": [
      "(5, 2, 7)\n"
     ]
    }
   ],
   "source": [
    "t= (5,2,7)\n",
    "print(t)"
   ]
  },
  {
   "cell_type": "code",
   "execution_count": 9,
   "id": "3433f502-de7a-49d3-b6d5-fc4fab6a4e80",
   "metadata": {},
   "outputs": [],
   "source": [
    "e,f,g =t"
   ]
  },
  {
   "cell_type": "code",
   "execution_count": 10,
   "id": "52efd0d8-eb75-4260-893f-5af636b64f26",
   "metadata": {},
   "outputs": [
    {
     "name": "stdout",
     "output_type": "stream",
     "text": [
      "5\n"
     ]
    }
   ],
   "source": [
    "print(e)"
   ]
  },
  {
   "cell_type": "code",
   "execution_count": 11,
   "id": "6d3ee696-176e-4da6-89dc-9925f8b4f758",
   "metadata": {},
   "outputs": [
    {
     "name": "stdout",
     "output_type": "stream",
     "text": [
      "(9, 5)\n"
     ]
    }
   ],
   "source": [
    "t2 = swap(5,9)\n",
    "print(t2)"
   ]
  },
  {
   "cell_type": "code",
   "execution_count": 16,
   "id": "f8557bfa-6efb-4d62-90fa-a9fb0806c4a9",
   "metadata": {},
   "outputs": [
    {
     "name": "stdout",
     "output_type": "stream",
     "text": [
      "140722838881192\n"
     ]
    }
   ],
   "source": [
    "#id print where location is\n",
    "print(id(e))"
   ]
  },
  {
   "cell_type": "code",
   "execution_count": 17,
   "id": "030fd944-ce78-4584-b6e7-8bd0ce7e5721",
   "metadata": {},
   "outputs": [
    {
     "name": "stdout",
     "output_type": "stream",
     "text": [
      "1 1 2 3 5 8 13 21 34 55 89 144 233 377 \n"
     ]
    }
   ],
   "source": [
    "#fib\n",
    "def fib(n):\n",
    "    a,b =0,1\n",
    "    while b<n:\n",
    "        print(b,'', end='')\n",
    "        a,b = b,a+b\n",
    "    print()\n",
    "fib(500)"
   ]
  },
  {
   "cell_type": "code",
   "execution_count": 18,
   "id": "bcaea5a7-8e66-4282-aea8-251c6b273562",
   "metadata": {},
   "outputs": [],
   "source": [
    "_fib = fib"
   ]
  },
  {
   "cell_type": "code",
   "execution_count": 19,
   "id": "9451d48d-e364-4bae-b817-8a97d4b4fe06",
   "metadata": {},
   "outputs": [
    {
     "name": "stdout",
     "output_type": "stream",
     "text": [
      "1 1 2 3 5 8 13 21 34 55 89 144 233 377 \n"
     ]
    }
   ],
   "source": [
    "_fib(500)"
   ]
  },
  {
   "cell_type": "code",
   "execution_count": 21,
   "id": "919c1905-3ca6-4b99-87db-4a5a8b401595",
   "metadata": {},
   "outputs": [],
   "source": [
    "def myFib(n):\n",
    "    print('monkey patched!!')\n",
    "    _fib(n)\n",
    "\n",
    "fib = myFib #call new function name as old"
   ]
  },
  {
   "cell_type": "code",
   "execution_count": 22,
   "id": "3fe0ddcd-1562-4b0c-a4e7-2a8d42c3039c",
   "metadata": {},
   "outputs": [
    {
     "name": "stdout",
     "output_type": "stream",
     "text": [
      "moneky ppatched!!\n",
      "1 1 2 3 5 8 13 21 34 55 89 144 233 377 \n"
     ]
    }
   ],
   "source": [
    "fib (500)"
   ]
  },
  {
   "cell_type": "code",
   "execution_count": 23,
   "id": "134e440e-27dc-44e4-841d-2e21aef9e48f",
   "metadata": {},
   "outputs": [
    {
     "name": "stdout",
     "output_type": "stream",
     "text": [
      "1954165167648 1954165167648\n"
     ]
    }
   ],
   "source": [
    "# point on same thing. see similar id\n",
    "print(id(fib), id(myFib))"
   ]
  },
  {
   "cell_type": "code",
   "execution_count": null,
   "id": "b3a76643-bb0e-4719-a0cb-bf18d20f7d31",
   "metadata": {},
   "outputs": [],
   "source": []
  }
 ],
 "metadata": {
  "kernelspec": {
   "display_name": "Python 3 (ipykernel)",
   "language": "python",
   "name": "python3"
  },
  "language_info": {
   "codemirror_mode": {
    "name": "ipython",
    "version": 3
   },
   "file_extension": ".py",
   "mimetype": "text/x-python",
   "name": "python",
   "nbconvert_exporter": "python",
   "pygments_lexer": "ipython3",
   "version": "3.11.7"
  }
 },
 "nbformat": 4,
 "nbformat_minor": 5
}
