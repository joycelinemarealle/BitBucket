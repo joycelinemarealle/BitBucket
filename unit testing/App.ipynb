import test_calc
import calc
%run test_calc.py